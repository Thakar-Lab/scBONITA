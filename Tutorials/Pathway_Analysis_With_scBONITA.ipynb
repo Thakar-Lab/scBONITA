{
 "cells": [
  {
   "cell_type": "markdown",
   "metadata": {},
   "source": [
    "# Pathway analysis with scBonita"
   ]
  },
  {
   "cell_type": "markdown",
   "metadata": {},
   "source": [
    "\n",
    "## To perform pathway analysis, scBONITA uses the rules generated in Step 2. \n",
    "\n",
    "In addition, scBONITA requires:\n",
    "\n",
    "* a **metadata file** specifiying the treatments/experimental variables for each cell and \n",
    "* a **contrast file** specifying the pairs of treatments to be compared.\n"
   ]
  },
  {
   "cell_type": "markdown",
   "metadata": {},
   "source": [
    "## The pathway analysis script has the following arguments:\n",
    "\n",
    "* **dataFile** \n",
    "    \n",
    "    Specify the name of the file containing processed scRNA-seq data\n",
    "\n",
    "\n",
    "* **conditions**\n",
    "    \n",
    "    Specify the name of the file containing cell-wise condition labels, ie, metadata for each cell in the training dataset. The columns are condition variables and the rows are cells. The first column must be cell names that correspond to the columns in the training data file. The column names must contain the variables specified in the contrast file (see contrast --help for more information).\n",
    "\n",
    "\n",
    "* **contrast**\n",
    "    \n",
    "    A text file where each line contains the two conditions (corresponding to column labels in the conditions file) are to be compared during pathway analysis.\n",
    "\n",
    "\n",
    "* **conditions_separator**\n",
    "    \n",
    "    Separator for the conditions file. Must be one of , (comma), \\s (space) or \\t (tab).\n",
    "\n",
    "\n",
    "* **contrast_separator**\n",
    "    \n",
    "    Separator for the contrast file. Must be one of , (comma), \\s (space) or \\t (tab)\n",
    "\n"
   ]
  },
  {
   "cell_type": "markdown",
   "metadata": {},
   "source": [
    "## Example usage with the provided example files in the `data` folder:\n",
    "\n",
    "> `python3.6 pathwayAnalysis.py --dataFile \"data/trainingData.csv\" --conditions \"data/conditions.txt\" --contrast \"data/contrast.txt\" --conditions_separator \",\" --contrast_separator \"\\t\"`"
   ]
  },
  {
   "cell_type": "code",
   "execution_count": null,
   "metadata": {},
   "outputs": [],
   "source": [
    "## Output files from scBONITA Pathway Analysis\n",
    "\n",
    "1. A comma-separated (CSV) file named as\n",
    "\n",
    "> **pvalues + contrast[0] + _vs_ + contrast[1] + .csv**\n",
    "\n",
    "For example, if the conditions to be compared (and specified in the contrasts file) are 'control' and 'treatment', the output file of scBONITA pathway analysis will be:\n",
    "\n",
    "> **pvalues_control_vs_treatment.csv**\n",
    "\n",
    "2. For each network, a file ending in **_importanceScores.csv**\n",
    "\n",
    "This file contains a table with the following columns:\n",
    "\n",
    "* **Node**: Gene name\n",
    "* **Importance Score**: Importance score for the node in the network, calculated using the provided training dataset\n",
    "* **ObsERS**: Observed size of the equivalent rule set or ERS. This is the number of possible equally valid Boolean rules for this node.\n",
    "* **MaxERS**: Maximum possible size of the ERS for that node. This is (2^n) - 1, where n is the number of incoming edges for the node in the network.\n",
    "\n",
    "3. For each network, a GRAPHML file ending in \"_IS\""
   ]
  },
  {
   "cell_type": "markdown",
   "metadata": {},
   "source": [
    "## View and analyze the output of scBONITA"
   ]
  },
  {
   "cell_type": "markdown",
   "metadata": {},
   "source": [
    "#### Load required packages"
   ]
  },
  {
   "cell_type": "code",
   "execution_count": null,
   "metadata": {},
   "outputs": [],
   "source": [
    "import pandas as pd\n",
    "import matplotlib.pyplot as plt\n",
    "import networkx as nx"
   ]
  },
  {
   "cell_type": "markdown",
   "metadata": {},
   "source": [
    "#### Example pvalues file"
   ]
  },
  {
   "cell_type": "code",
   "execution_count": null,
   "metadata": {},
   "outputs": [],
   "source": [
    "pvalues = pd.read_csv()\n",
    "pvalues.head()"
   ]
  },
  {
   "cell_type": "markdown",
   "metadata": {},
   "source": [
    "#### Make bubbleplots using generated pvalues"
   ]
  },
  {
   "cell_type": "code",
   "execution_count": null,
   "metadata": {},
   "outputs": [],
   "source": [
    "makeBubblePlots(pvalues=pd.DataFrame(),\n",
    "                    adjPValueThreshold=0.05,\n",
    "                    wrap=25,\n",
    "                    height=8,\n",
    "                    width=10,\n",
    "                    palette=\"colorblind\",\n",
    "                    saveAsPDF=True,\n",
    "                    outputFile=\"example_PA_bubbleplot.pdf\")"
   ]
  },
  {
   "cell_type": "markdown",
   "metadata": {},
   "source": [
    "#### Example importance scores file"
   ]
  },
  {
   "cell_type": "code",
   "execution_count": null,
   "metadata": {},
   "outputs": [],
   "source": [
    "importanceScores = pd.read_csv()\n",
    "importanceScores.head()"
   ]
  },
  {
   "cell_type": "markdown",
   "metadata": {},
   "source": [
    "#### Plot the equivalent rule set sizes for this network"
   ]
  },
  {
   "cell_type": "code",
   "execution_count": null,
   "metadata": {},
   "outputs": [],
   "source": [
    "importanceScores.loc[importanceScores[\"MaxERS\"] == 127].hist(column='ObsERS')\n",
    "plt.xlabel('Observed ERS')\n",
    "plt.ylabel('Frequency')\n",
    "plt.title('ERS of nodes with in-degree >= 3)')\n",
    "plt.show()\n",
    "plt.clf()"
   ]
  },
  {
   "cell_type": "code",
   "execution_count": null,
   "metadata": {},
   "outputs": [],
   "source": [
    "importanceScores.loc[importanceScores[\"MaxERS\"] == 7].hist(column='ObsERS')\n",
    "plt.xlabel('Observed ERS')\n",
    "plt.ylabel('Frequency')\n",
    "plt.title('ERS of nodes with in-degree = 2)')\n",
    "plt.show()\n",
    "plt.clf()"
   ]
  },
  {
   "cell_type": "markdown",
   "metadata": {},
   "source": [
    "#### Visualize this network in external software such as CytoScape or Gephi"
   ]
  },
  {
   "cell_type": "code",
   "execution_count": null,
   "metadata": {},
   "outputs": [],
   "source": [
    "graph = nx.read_graphml()"
   ]
  },
  {
   "cell_type": "code",
   "execution_count": null,
   "metadata": {},
   "outputs": [],
   "source": [
    "pd.DataFrame.from_dict(dict(graph.nodes(data=True)), orient='index')"
   ]
  },
  {
   "cell_type": "code",
   "execution_count": null,
   "metadata": {},
   "outputs": [],
   "source": [
    "pd.DataFrame.from_dict(dict(graph.edges(data=True)), orient='index')"
   ]
  }
 ],
 "metadata": {
  "kernelspec": {
   "display_name": "Python 3 (anaconda3 2020.07)",
   "language": "python",
   "name": "anaconda3-2020.07"
  },
  "language_info": {
   "codemirror_mode": {
    "name": "ipython",
    "version": 3
   },
   "file_extension": ".py",
   "mimetype": "text/x-python",
   "name": "python",
   "nbconvert_exporter": "python",
   "pygments_lexer": "ipython3",
   "version": "3.8.3"
  }
 },
 "nbformat": 4,
 "nbformat_minor": 2
}
